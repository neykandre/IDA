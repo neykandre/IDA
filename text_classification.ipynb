{
 "cells": [
  {
   "cell_type": "markdown",
   "metadata": {
    "id": "Ffq6A2-ifzAA"
   },
   "source": [
    "# Интеллектуальный анализ данных – весна 2025\n",
    "# Домашнее задание 6: классификация текстов"
   ]
  },
  {
   "cell_type": "markdown",
   "source": [
    "Правила:\n",
    "\n",
    "\n",
    "\n",
    "*   Домашнее задание оценивается в 10 баллов.\n",
    "*   Можно использовать без доказательства любые результаты, встречавшиеся на лекциях или семинарах по курсу, если получение этих результатов не является вопросом задания.\n",
    "*  Можно использовать любые свободные источники с *обязательным* указанием ссылки на них.\n",
    "*  Плагиат не допускается. При обнаружении случаев списывания, 0 за работу выставляется всем участникам нарушения, даже если можно установить, кто у кого списал.\n",
    "*  Старайтесь сделать код как можно более оптимальным. В частности, будет штрафоваться использование циклов в тех случаях, когда операцию можно совершить при помощи инструментов библиотек, о которых рассказывалось в курсе.\n",
    "* Если в задании есть вопрос на рассуждение, то за отсутствие ответа на него балл за задание будет снижен вполовину."
   ],
   "metadata": {
    "id": "EPcxtekTA1Sm"
   }
  },
  {
   "cell_type": "markdown",
   "metadata": {
    "id": "itRtFtrOf0_b"
   },
   "source": [
    "В этом домашнем задании вам предстоит построить классификатор текстов.\n",
    "\n",
    "Будем предсказывать эмоциональную окраску твиттов о коронавирусе.\n",
    "\n"
   ]
  },
  {
   "cell_type": "code",
   "metadata": {
    "id": "tNGRVO7_g9mz",
    "ExecuteTime": {
     "end_time": "2025-05-10T10:27:52.465205Z",
     "start_time": "2025-05-10T10:27:52.462554Z"
    }
   },
   "source": [
    "import numpy as np\n",
    "import pandas as pd\n",
    "from typing import  List\n",
    "import matplotlib.pyplot as plt\n",
    "import seaborn as sns\n",
    "from string import punctuation"
   ],
   "outputs": [],
   "execution_count": 5
  },
  {
   "cell_type": "code",
   "metadata": {
    "id": "zOy8iHJQg_Ss",
    "colab": {
     "base_uri": "https://localhost:8080/",
     "height": 348
    },
    "outputId": "6a32c325-1b9a-4895-ab22-5e985016da91",
    "ExecuteTime": {
     "end_time": "2025-05-10T10:27:53.864884Z",
     "start_time": "2025-05-10T10:27:53.744727Z"
    }
   },
   "source": [
    "df = pd.read_csv('data/tweets_coronavirus.csv', encoding='latin-1')\n",
    "df.sample(4)"
   ],
   "outputs": [
    {
     "data": {
      "text/plain": [
       "       UserName  ScreenName                   Location     TweetAt  \\\n",
       "25234     34710       79662             United Kingdom  06-04-2020   \n",
       "29325     39787       84739  Philadelphia ? Fort Worth  09-04-2020   \n",
       "28678     38990       83942   Ferrum Stadium (She/Her)  08-04-2020   \n",
       "11767     18071       63023    Lincoln, United Kingdom  21-03-2020   \n",
       "\n",
       "                                           OriginalTweet Sentiment  \n",
       "25234  Workers face the twin effects of rising prices...  Positive  \n",
       "29325  Professor Hannah Bloch Wehba was quoted in an ...  Negative  \n",
       "28678  the end half of 2020 is shaping up to be a gre...  Negative  \n",
       "11767  Why is nobody panic buying vegan food? It's th...  Negative  "
      ],
      "text/html": [
       "<div>\n",
       "<style scoped>\n",
       "    .dataframe tbody tr th:only-of-type {\n",
       "        vertical-align: middle;\n",
       "    }\n",
       "\n",
       "    .dataframe tbody tr th {\n",
       "        vertical-align: top;\n",
       "    }\n",
       "\n",
       "    .dataframe thead th {\n",
       "        text-align: right;\n",
       "    }\n",
       "</style>\n",
       "<table border=\"1\" class=\"dataframe\">\n",
       "  <thead>\n",
       "    <tr style=\"text-align: right;\">\n",
       "      <th></th>\n",
       "      <th>UserName</th>\n",
       "      <th>ScreenName</th>\n",
       "      <th>Location</th>\n",
       "      <th>TweetAt</th>\n",
       "      <th>OriginalTweet</th>\n",
       "      <th>Sentiment</th>\n",
       "    </tr>\n",
       "  </thead>\n",
       "  <tbody>\n",
       "    <tr>\n",
       "      <th>25234</th>\n",
       "      <td>34710</td>\n",
       "      <td>79662</td>\n",
       "      <td>United Kingdom</td>\n",
       "      <td>06-04-2020</td>\n",
       "      <td>Workers face the twin effects of rising prices...</td>\n",
       "      <td>Positive</td>\n",
       "    </tr>\n",
       "    <tr>\n",
       "      <th>29325</th>\n",
       "      <td>39787</td>\n",
       "      <td>84739</td>\n",
       "      <td>Philadelphia ? Fort Worth</td>\n",
       "      <td>09-04-2020</td>\n",
       "      <td>Professor Hannah Bloch Wehba was quoted in an ...</td>\n",
       "      <td>Negative</td>\n",
       "    </tr>\n",
       "    <tr>\n",
       "      <th>28678</th>\n",
       "      <td>38990</td>\n",
       "      <td>83942</td>\n",
       "      <td>Ferrum Stadium (She/Her)</td>\n",
       "      <td>08-04-2020</td>\n",
       "      <td>the end half of 2020 is shaping up to be a gre...</td>\n",
       "      <td>Negative</td>\n",
       "    </tr>\n",
       "    <tr>\n",
       "      <th>11767</th>\n",
       "      <td>18071</td>\n",
       "      <td>63023</td>\n",
       "      <td>Lincoln, United Kingdom</td>\n",
       "      <td>21-03-2020</td>\n",
       "      <td>Why is nobody panic buying vegan food? It's th...</td>\n",
       "      <td>Negative</td>\n",
       "    </tr>\n",
       "  </tbody>\n",
       "</table>\n",
       "</div>"
      ]
     },
     "execution_count": 6,
     "metadata": {},
     "output_type": "execute_result"
    }
   ],
   "execution_count": 6
  },
  {
   "cell_type": "markdown",
   "metadata": {
    "id": "m2OiDog9ZBlS"
   },
   "source": [
    "Для каждого твитта указано:\n",
    "\n",
    "\n",
    "*   UserName - имя пользователя, заменено на целое число для анонимности\n",
    "*   ScreenName - отображающееся имя пользователя, заменено на целое число для анонимности\n",
    "*   Location - местоположение\n",
    "*   TweetAt - дата создания твитта\n",
    "*   OriginalTweet - текст твитта\n",
    "*   Sentiment - эмоциональная окраска твитта (целевая переменная)\n",
    "\n"
   ]
  },
  {
   "cell_type": "markdown",
   "metadata": {
    "id": "pZTMseDkhTC7"
   },
   "source": [
    "## Задание 1 Подготовка (0.5 балла)"
   ]
  },
  {
   "cell_type": "markdown",
   "metadata": {
    "id": "Xx2-odn9hdAW"
   },
   "source": [
    "Целевая переменная находится в колонке `Sentiment`.  Преобразуйте ее таким образом, чтобы она стала бинарной: 1 - если у твитта положительная или очень положительная эмоциональная окраска и 0 - если отрицательная или очень отрицательная."
   ]
  },
  {
   "metadata": {
    "ExecuteTime": {
     "end_time": "2025-05-10T10:27:56.499079Z",
     "start_time": "2025-05-10T10:27:56.493265Z"
    }
   },
   "cell_type": "code",
   "source": "df['Sentiment'].value_counts()",
   "outputs": [
    {
     "data": {
      "text/plain": [
       "Sentiment\n",
       "Positive              11422\n",
       "Negative               9917\n",
       "Extremely Positive     6624\n",
       "Extremely Negative     5481\n",
       "Name: count, dtype: int64"
      ]
     },
     "execution_count": 7,
     "metadata": {},
     "output_type": "execute_result"
    }
   ],
   "execution_count": 7
  },
  {
   "cell_type": "code",
   "metadata": {
    "id": "ZaQKQ1zEjP15",
    "ExecuteTime": {
     "end_time": "2025-05-10T10:27:56.705398Z",
     "start_time": "2025-05-10T10:27:56.692694Z"
    }
   },
   "source": [
    "df['Sentiment'] = df['Sentiment'].apply(lambda x: 1 if x in ['Positive', 'Extremely Positive'] else 0)\n",
    "df['Sentiment'].value_counts()"
   ],
   "outputs": [
    {
     "data": {
      "text/plain": [
       "Sentiment\n",
       "1    18046\n",
       "0    15398\n",
       "Name: count, dtype: int64"
      ]
     },
     "execution_count": 8,
     "metadata": {},
     "output_type": "execute_result"
    }
   ],
   "execution_count": 8
  },
  {
   "cell_type": "markdown",
   "metadata": {
    "id": "pGq1FxJ-kBo5"
   },
   "source": [
    "Сбалансированы ли классы?"
   ]
  },
  {
   "cell_type": "code",
   "metadata": {
    "id": "a7gdNtxckK5V",
    "ExecuteTime": {
     "end_time": "2025-05-10T10:27:57.054143Z",
     "start_time": "2025-05-10T10:27:57.049703Z"
    }
   },
   "source": [
    "positive = df['Sentiment'].value_counts()[1]\n",
    "negative = df['Sentiment'].value_counts()[0]\n",
    "\n",
    "print(f'Proportion of positive tweets: {positive / (positive + negative)}')\n",
    "print(f'Proportion of negative tweets: {negative / (positive + negative)}')"
   ],
   "outputs": [
    {
     "name": "stdout",
     "output_type": "stream",
     "text": [
      "Proportion of positive tweets: 0.5395885659610095\n",
      "Proportion of negative tweets: 0.46041143403899054\n"
     ]
    }
   ],
   "execution_count": 9
  },
  {
   "cell_type": "markdown",
   "metadata": {
    "id": "Ng8BCelMkWb0"
   },
   "source": "**Ответ:** Сбалансированы"
  },
  {
   "cell_type": "markdown",
   "metadata": {
    "id": "qmSIBSsLk5Zz"
   },
   "source": [
    "Выведете на экран информацию о пропусках в данных. Если пропуски присутствуют заполните их строкой 'Unknown'."
   ]
  },
  {
   "cell_type": "code",
   "metadata": {
    "id": "UhUVRkR5kxa7",
    "ExecuteTime": {
     "end_time": "2025-05-10T10:27:57.651498Z",
     "start_time": "2025-05-10T10:27:57.644262Z"
    }
   },
   "source": "df.isna().sum()",
   "outputs": [
    {
     "data": {
      "text/plain": [
       "UserName            0\n",
       "ScreenName          0\n",
       "Location         7049\n",
       "TweetAt             0\n",
       "OriginalTweet       0\n",
       "Sentiment           0\n",
       "dtype: int64"
      ]
     },
     "execution_count": 10,
     "metadata": {},
     "output_type": "execute_result"
    }
   ],
   "execution_count": 10
  },
  {
   "metadata": {
    "ExecuteTime": {
     "end_time": "2025-05-10T10:27:57.891839Z",
     "start_time": "2025-05-10T10:27:57.872336Z"
    }
   },
   "cell_type": "code",
   "source": [
    "df.fillna('Unknown', inplace=True)\n",
    "df.isna().sum()"
   ],
   "outputs": [
    {
     "data": {
      "text/plain": [
       "UserName         0\n",
       "ScreenName       0\n",
       "Location         0\n",
       "TweetAt          0\n",
       "OriginalTweet    0\n",
       "Sentiment        0\n",
       "dtype: int64"
      ]
     },
     "execution_count": 11,
     "metadata": {},
     "output_type": "execute_result"
    }
   ],
   "execution_count": 11
  },
  {
   "cell_type": "markdown",
   "metadata": {
    "id": "1tzt27tfjUpq"
   },
   "source": [
    "Разделите данные на обучающие и тестовые в соотношении 7 : 3 и укажите `random_state=0`"
   ]
  },
  {
   "cell_type": "code",
   "metadata": {
    "id": "xSLOA9tIj9Z6",
    "ExecuteTime": {
     "end_time": "2025-05-10T10:27:58.469650Z",
     "start_time": "2025-05-10T10:27:58.225442Z"
    }
   },
   "source": [
    "from sklearn.model_selection import train_test_split\n",
    "\n",
    "train, test = train_test_split(df, test_size=0.3, random_state=0)"
   ],
   "outputs": [],
   "execution_count": 12
  },
  {
   "cell_type": "markdown",
   "metadata": {
    "id": "J9RrPUsJlL60"
   },
   "source": [
    "## Задание 2 Токенизация (3 балла)"
   ]
  },
  {
   "cell_type": "markdown",
   "metadata": {
    "id": "2Dz_b7Xopc_R"
   },
   "source": [
    "Постройте словарь на основе обучающей выборки и посчитайте количество встреч каждого токена с использованием самой простой токенизации - деления текстов по пробельным символам и приведения токенов в нижний регистр."
   ]
  },
  {
   "cell_type": "code",
   "metadata": {
    "id": "SFr67WOJphny",
    "ExecuteTime": {
     "end_time": "2025-05-10T10:27:59.180210Z",
     "start_time": "2025-05-10T10:27:58.777174Z"
    }
   },
   "source": [
    "train_dict = train['OriginalTweet'].apply(lambda x: x.split()).explode().str.lower().value_counts().to_dict()\n",
    "train_dict = dict(sorted(train_dict.items(), key=lambda x: x[1], reverse=True))"
   ],
   "outputs": [],
   "execution_count": 13
  },
  {
   "cell_type": "markdown",
   "metadata": {
    "id": "Pe0h2Jqkpnao"
   },
   "source": [
    "Какой размер словаря получился?"
   ]
  },
  {
   "cell_type": "code",
   "metadata": {
    "id": "umyENA7EpokD",
    "ExecuteTime": {
     "end_time": "2025-05-10T10:27:59.194112Z",
     "start_time": "2025-05-10T10:27:59.189091Z"
    }
   },
   "source": "len(train_dict)",
   "outputs": [
    {
     "data": {
      "text/plain": [
       "79755"
      ]
     },
     "execution_count": 14,
     "metadata": {},
     "output_type": "execute_result"
    }
   ],
   "execution_count": 14
  },
  {
   "cell_type": "markdown",
   "metadata": {
    "id": "0d2G1Z-Qpqkd"
   },
   "source": [
    "Выведите 10 самых популярных токенов с количеством встреч каждого из них. Объясните, почему именно эти токены в топе."
   ]
  },
  {
   "cell_type": "code",
   "metadata": {
    "id": "Impi32a_pssg",
    "ExecuteTime": {
     "end_time": "2025-05-10T10:27:59.538681Z",
     "start_time": "2025-05-10T10:27:59.530714Z"
    }
   },
   "source": [
    "for token in list(train_dict)[:10]:\n",
    "    print(token, train_dict[token])"
   ],
   "outputs": [
    {
     "name": "stdout",
     "output_type": "stream",
     "text": [
      "the 26815\n",
      "to 23373\n",
      "and 14684\n",
      "of 13012\n",
      "a 11737\n",
      "in 11198\n",
      "for 8566\n",
      "#coronavirus 8223\n",
      "is 7383\n",
      "are 7050\n"
     ]
    }
   ],
   "execution_count": 15
  },
  {
   "cell_type": "markdown",
   "metadata": {
    "id": "ZtuJCD0ApuFd"
   },
   "source": "**Ответ:** это токены, которые встречаются независимо от контекста просто в связи с правилами языка (артикли, предлоги и пр.)"
  },
  {
   "cell_type": "markdown",
   "metadata": {
    "id": "T7DTQDkWsVYp"
   },
   "source": [
    "Удалите стоп-слова из словаря и выведите новый топ-10 токенов (и количество встреч) по популярности.  Что можно сказать  о нем?"
   ]
  },
  {
   "cell_type": "code",
   "metadata": {
    "id": "8csSAdgTsnFx",
    "ExecuteTime": {
     "end_time": "2025-05-10T10:28:01.506245Z",
     "start_time": "2025-05-10T10:28:00.091726Z"
    }
   },
   "source": [
    "import nltk\n",
    "from nltk.corpus import stopwords\n",
    "\n",
    "nltk.download('stopwords')\n",
    "\n",
    "stop_words = set(stopwords.words('english'))"
   ],
   "outputs": [
    {
     "name": "stderr",
     "output_type": "stream",
     "text": [
      "[nltk_data] Downloading package stopwords to /home/andre/nltk_data...\n",
      "[nltk_data]   Package stopwords is already up-to-date!\n"
     ]
    }
   ],
   "execution_count": 16
  },
  {
   "metadata": {
    "ExecuteTime": {
     "end_time": "2025-05-10T10:28:01.606532Z",
     "start_time": "2025-05-10T10:28:01.578237Z"
    }
   },
   "cell_type": "code",
   "source": [
    "train_dict = {token: count for token, count in train_dict.items() if token not in stop_words}\n",
    "for token in list(train_dict)[:10]:\n",
    "    print(token, train_dict[token])"
   ],
   "outputs": [
    {
     "name": "stdout",
     "output_type": "stream",
     "text": [
      "#coronavirus 8223\n",
      "prices 3891\n",
      "food 3820\n",
      "grocery 3469\n",
      "supermarket 3288\n",
      "people 3175\n",
      "covid-19 3173\n",
      "store 3155\n",
      "#covid19 2471\n",
      "&amp; 2314\n"
     ]
    }
   ],
   "execution_count": 17
  },
  {
   "cell_type": "markdown",
   "metadata": {
    "id": "LZH0x2Lzs-Dh"
   },
   "source": "**Ответ:** В топе слов твитов коронавирус и слова, связанные с едой"
  },
  {
   "cell_type": "markdown",
   "metadata": {
    "id": "TKSGRyI-uor0"
   },
   "source": [
    "Также выведите 20 самых непопулярных слов (если самых непопулярных слов больше, выведите любые 20 из них) Почему эти токены непопулярны, требуется ли как-то дополнительно работать с ними?"
   ]
  },
  {
   "cell_type": "code",
   "metadata": {
    "id": "moArbwfvun9t",
    "ExecuteTime": {
     "end_time": "2025-05-10T10:28:01.689983Z",
     "start_time": "2025-05-10T10:28:01.683521Z"
    }
   },
   "source": [
    "for token in list(train_dict)[-20:]:\n",
    "    print(token, train_dict[token])"
   ],
   "outputs": [
    {
     "name": "stdout",
     "output_type": "stream",
     "text": [
      "facing, 1\n",
      "certainty 1\n",
      "https://t.co/1r9jreatxh 1\n",
      "https://t.co/vbur8oxeva 1\n",
      "@cmo_england?\"in 1\n",
      "vege 1\n",
      "https://t.co/l1yslj1jtv 1\n",
      "employed/bank 1\n",
      "pas,detention 1\n",
      "centres,prisons,sen,residential/sheltered/supported 1\n",
      "l.a.'s 1\n",
      "https://t.co/gxy3adoh8g 1\n",
      "elderly? 1\n",
      "https://t.co/118bdyrbvl 1\n",
      "success! 1\n",
      "#survivor 1\n",
      "https://t.co/vhucly0oi2 1\n",
      "@helen_whately 1\n",
      "&amp;most 1\n",
      "(rubbing 1\n"
     ]
    }
   ],
   "execution_count": 18
  },
  {
   "cell_type": "markdown",
   "metadata": {
    "id": "uRp3J1gQunlR"
   },
   "source": [
    "**Ответ:** встречаются ссылки на другие твиты (что очевидно будет непопулярным словом), а также встречаются неправильно токенизированные слова (присутствуют знаки препинания вместе со словом и склеенные слова)\n",
    "\n"
   ]
  },
  {
   "cell_type": "markdown",
   "metadata": {
    "id": "wx9LQOSPzvjV"
   },
   "source": [
    "Теперь воспользуемся токенайзером получше - TweetTokenizer из библиотеки nltk. Примените его и посмотрите на топ-10 популярных слов. Чем он отличается от топа, который получался раньше? Почему?"
   ]
  },
  {
   "cell_type": "code",
   "metadata": {
    "id": "2G1UkyVxzvFY",
    "ExecuteTime": {
     "end_time": "2025-05-10T10:28:06.159141Z",
     "start_time": "2025-05-10T10:28:02.374744Z"
    }
   },
   "source": [
    "from nltk.tokenize import TweetTokenizer\n",
    "\n",
    "tokenizer = TweetTokenizer()\n",
    "\n",
    "train_dict_tw = train['OriginalTweet'].apply(lambda x: tokenizer.tokenize(x)).explode().str.lower().value_counts().to_dict()\n",
    "train_dict_tw = dict(sorted(train_dict_tw.items(), key=lambda x: x[1], reverse=True))\n",
    "for token in list(train_dict_tw)[:10]:\n",
    "    print(token, train_dict_tw[token])"
   ],
   "outputs": [
    {
     "name": "stdout",
     "output_type": "stream",
     "text": [
      "the 26993\n",
      ". 24118\n",
      "to 23478\n",
      ", 17571\n",
      "and 14825\n",
      "of 13044\n",
      "a 11891\n",
      "in 11348\n",
      "? 9524\n",
      "#coronavirus 8808\n"
     ]
    }
   ],
   "execution_count": 19
  },
  {
   "cell_type": "markdown",
   "metadata": {
    "id": "50eVUnJN1Zxl"
   },
   "source": "**Ответ:** Добавились знаки препинания"
  },
  {
   "cell_type": "markdown",
   "metadata": {
    "id": "1gqQgiMs11bs"
   },
   "source": [
    "Удалите из словаря стоп-слова и пунктуацию, посмотрите на новый топ-10 слов с количеством встреч, есть ли теперь в нем что-то не похожее на слова?"
   ]
  },
  {
   "cell_type": "code",
   "metadata": {
    "id": "0yHWdFrp0Mup",
    "ExecuteTime": {
     "end_time": "2025-05-10T10:28:07.879727Z",
     "start_time": "2025-05-10T10:28:07.848133Z"
    }
   },
   "source": [
    "from string import punctuation\n",
    "\n",
    "train_dict_tw = {token: count for token, count in train_dict_tw.items() if token not in stop_words and token not in punctuation}\n",
    "for token in list(train_dict_tw)[:10]:\n",
    "    print(token, train_dict_tw[token])"
   ],
   "outputs": [
    {
     "name": "stdout",
     "output_type": "stream",
     "text": [
      "#coronavirus 8808\n",
      "â 7415\n",
      " 7311\n",
      "19 7167\n",
      "covid 6253\n",
      "prices 4601\n",
      " 4372\n",
      "food 4367\n",
      "store 3877\n",
      "supermarket 3805\n"
     ]
    }
   ],
   "execution_count": 20
  },
  {
   "cell_type": "markdown",
   "metadata": {
    "id": "8ZJqXELP_Yxy"
   },
   "source": "**Ответ:** Остались юникодовская кодировка"
  },
  {
   "cell_type": "markdown",
   "metadata": {
    "id": "rzXjMsSB_kXB"
   },
   "source": [
    "Скорее всего в некоторых топах были неотображаемые символы или отдельные буквы не латинского алфавита. Уберем их: удалите из словаря токены из одного символа, позиция которого в таблице Unicode 128 и более (`ord(x) >= 128`)\n",
    "\n",
    "Выведите топ-10 самых популярных и топ-20 непопулярных слов. Чем полученные топы отличаются от итоговых топов, полученных при использовании токенизации по пробелам? Что теперь лучше, а что хуже?"
   ]
  },
  {
   "cell_type": "code",
   "metadata": {
    "id": "1695hlkS_1-J",
    "ExecuteTime": {
     "end_time": "2025-05-10T10:28:08.645372Z",
     "start_time": "2025-05-10T10:28:08.616185Z"
    }
   },
   "source": [
    "train_dict_tw = {token: count for token, count in train_dict_tw.items() if len(token) > 1 or ord(token[0]) < 128}\n",
    "for token in list(train_dict_tw)[:10]:\n",
    "    print(token, train_dict_tw[token])"
   ],
   "outputs": [
    {
     "name": "stdout",
     "output_type": "stream",
     "text": [
      "#coronavirus 8808\n",
      "19 7167\n",
      "covid 6253\n",
      "prices 4601\n",
      "food 4367\n",
      "store 3877\n",
      "supermarket 3805\n",
      "grocery 3523\n",
      "people 3463\n",
      "#covid19 2589\n"
     ]
    }
   ],
   "execution_count": 21
  },
  {
   "metadata": {
    "ExecuteTime": {
     "end_time": "2025-05-10T10:28:08.918758Z",
     "start_time": "2025-05-10T10:28:08.913108Z"
    }
   },
   "cell_type": "code",
   "source": [
    "for token in list(train_dict_tw)[-20:]:\n",
    "    print(token, train_dict_tw[token])"
   ],
   "outputs": [
    {
     "name": "stdout",
     "output_type": "stream",
     "text": [
      "#irs 1\n",
      "#ssa 1\n",
      "https://t.co/qvrpxck73z 1\n",
      "damning 1\n",
      "#unityinourcommunity 1\n",
      "harlow 1\n",
      "@halfon4harlowmp 1\n",
      "#harlow 1\n",
      "#essex 1\n",
      "https://t.co/wjasecsbah 1\n",
      "#kotprayerday 1\n",
      "https://t.co/586ufbbmp3 1\n",
      "https://t.co/5cbliqzx7l 1\n",
      "now.when 1\n",
      "milion 1\n",
      "skellig 1\n",
      "@skelligsix18 1\n",
      "#skelligcoast2kms 1\n",
      "#southkerry 1\n",
      "https://t.co/lohvcsplcb 1\n"
     ]
    }
   ],
   "execution_count": 22
  },
  {
   "cell_type": "markdown",
   "metadata": {
    "id": "KzjHAKIlDvc6"
   },
   "source": "**Ответ:** В топе теперь covid-19 делится на два отдельных токена (covid, 19), что может путать модель, потому что само по себе число 19 без рядом стоящего covid не имеет какого-то семантического смысла. Из улучшений, теперь в 20 редких токенов нет некорректно токенизированных слов, остались только тэги и ссылки"
  },
  {
   "cell_type": "markdown",
   "metadata": {
    "id": "EcDf9_6HB2zm"
   },
   "source": [
    "Выведите топ-10 популярных хештегов (токены, первые символы которых - #) с количеством встреч. Что можно сказать о них?"
   ]
  },
  {
   "cell_type": "code",
   "metadata": {
    "id": "zk4fygCUBw3l",
    "ExecuteTime": {
     "end_time": "2025-05-10T10:28:09.601822Z",
     "start_time": "2025-05-10T10:28:09.584199Z"
    }
   },
   "source": [
    "hashtag_dict = {token: count for token, count in train_dict_tw.items() if token[0] == '#'}\n",
    "hashtag_dict = dict(sorted(hashtag_dict.items(), key=lambda x: x[1], reverse=True))\n",
    "for token in list(hashtag_dict)[:10]:\n",
    "    print(token, hashtag_dict[token])"
   ],
   "outputs": [
    {
     "name": "stdout",
     "output_type": "stream",
     "text": [
      "#coronavirus 8808\n",
      "#covid19 2589\n",
      "#covid_19 1734\n",
      "#covid2019 946\n",
      "#toiletpaper 744\n",
      "#covid 641\n",
      "#socialdistancing 465\n",
      "#coronacrisis 448\n",
      "#pandemic 257\n",
      "#coronaviruspandemic 249\n"
     ]
    }
   ],
   "execution_count": 23
  },
  {
   "cell_type": "markdown",
   "metadata": {
    "id": "-6NeNWBkDxM7"
   },
   "source": "**Ответ:** Большинство из них связаны с пандемией коронавируса"
  },
  {
   "cell_type": "markdown",
   "metadata": {
    "id": "LLYBg7caD5GA"
   },
   "source": [
    "То же самое проделайте для ссылок на сайт https://t.co Сравнима ли популярность ссылок с популярностью хештегов? Будет ли информация о ссылке на конкретную страницу полезна?"
   ]
  },
  {
   "cell_type": "code",
   "metadata": {
    "id": "MXbm1oeaCK9S",
    "ExecuteTime": {
     "end_time": "2025-05-10T10:28:10.377868Z",
     "start_time": "2025-05-10T10:28:10.355385Z"
    }
   },
   "source": [
    "link_dict = {token: count for token, count in train_dict_tw.items() if 't.co' in token}\n",
    "link_dict = dict(sorted(link_dict.items(), key=lambda x: x[1], reverse=True))\n",
    "for token in list(link_dict)[:10]:\n",
    "    print(token, link_dict[token])"
   ],
   "outputs": [
    {
     "name": "stdout",
     "output_type": "stream",
     "text": [
      "https://t.co/oxa7swtond 5\n",
      "https://t.co/gp3eusapl8 4\n",
      "https://t.co/zjnrx6dkkn 3\n",
      "https://t.co/oi39zsanq8 3\n",
      "https://t.co/wuieefsnoj 3\n",
      "https://t.co/catkegayoy 3\n",
      "https://t.co/g63rp042ho 3\n",
      "https://t.co/3gbbdpdjat 3\n",
      "https://t.co/deftrui1pfãâ 3\n",
      "https://t.co/bylqxrjmnt 3\n"
     ]
    }
   ],
   "execution_count": 24
  },
  {
   "cell_type": "markdown",
   "metadata": {
    "id": "at6lRYZ8A07N"
   },
   "source": "**Ответ:** Информация бесполезна, так как ссылки представляют собой захэшированные уникальные имена"
  },
  {
   "cell_type": "markdown",
   "metadata": {
    "id": "IOGdUU1kBU1D"
   },
   "source": [
    "Используем опыт предыдущих экспериментов и напишем собственный токенайзер, улучшив TweetTokenizer. Функция tokenize должна:\n",
    "\n",
    "\n",
    "\n",
    "*   Привести текст в нижний регистр\n",
    "*   Применить TweetTokenizer для  выделения токенов\n",
    "*   Удалить стоп-слова, пунктуацию, токены из одного символа с позицией в таблице Unicode 128 и более,  ссылки на t.co\n",
    "\n"
   ]
  },
  {
   "cell_type": "code",
   "metadata": {
    "id": "ctEsB6xkFrrK",
    "ExecuteTime": {
     "end_time": "2025-05-10T10:28:11.118453Z",
     "start_time": "2025-05-10T10:28:11.115454Z"
    }
   },
   "source": [
    "def custom_tokenizer(text):\n",
    "    text = text.lower()\n",
    "\n",
    "    tokens = TweetTokenizer().tokenize(text)\n",
    "    tokens = [token for token in tokens if token not in stop_words and token not in punctuation]\n",
    "    tokens = [token for token in tokens if len(token) > 1 or ord(token[0]) < 128]\n",
    "    tokens = [token for token in tokens if 'https://t.co/' not in token]\n",
    "\n",
    "    return tokens"
   ],
   "outputs": [],
   "execution_count": 25
  },
  {
   "cell_type": "code",
   "metadata": {
    "colab": {
     "base_uri": "https://localhost:8080/"
    },
    "id": "XwbgtYkJGYym",
    "outputId": "5808765b-3448-45e6-ccc1-7cd65f6371ef",
    "ExecuteTime": {
     "end_time": "2025-05-10T10:28:11.372546Z",
     "start_time": "2025-05-10T10:28:11.368130Z"
    }
   },
   "source": [
    "custom_tokenizer('This is sample text!!!! @Sample_text I, \\x92\\x92 https://t.co/sample  #sampletext')"
   ],
   "outputs": [
    {
     "data": {
      "text/plain": [
       "['sample', 'text', '@sample_text', '#sampletext']"
      ]
     },
     "execution_count": 26,
     "metadata": {},
     "output_type": "execute_result"
    }
   ],
   "execution_count": 26
  },
  {
   "cell_type": "markdown",
   "metadata": {
    "id": "wURVABmXHk97"
   },
   "source": [
    "## Задание 3 Векторизация текстов (2 балла)"
   ]
  },
  {
   "cell_type": "markdown",
   "metadata": {
    "id": "H44iXkoHIQfN"
   },
   "source": [
    "Обучите CountVectorizer с использованием custom_tokenizer в качестве токенайзера. Как размер полученного словаря соотносится с размером изначального словаря из начала задания 2?"
   ]
  },
  {
   "cell_type": "code",
   "source": [
    "from sklearn.feature_extraction.text import CountVectorizer\n",
    "\n",
    "cv = CountVectorizer(tokenizer=custom_tokenizer, token_pattern=None)\n",
    "\n",
    "cv.fit_transform(train['OriginalTweet'])\n",
    "\n",
    "print(len(cv.vocabulary_))"
   ],
   "metadata": {
    "colab": {
     "base_uri": "https://localhost:8080/"
    },
    "id": "gHn_limQl3BI",
    "outputId": "8e9c1826-319f-4376-f06e-c30c2eb82648",
    "ExecuteTime": {
     "end_time": "2025-05-10T10:28:15.497281Z",
     "start_time": "2025-05-10T10:28:12.127916Z"
    }
   },
   "outputs": [
    {
     "name": "stdout",
     "output_type": "stream",
     "text": [
      "45279\n"
     ]
    }
   ],
   "execution_count": 27
  },
  {
   "cell_type": "markdown",
   "metadata": {
    "id": "gsfmaSGoItUm"
   },
   "source": "**Ответ:** Меньше почти в два раза"
  },
  {
   "cell_type": "markdown",
   "metadata": {
    "id": "lm6UHNmqKZT0"
   },
   "source": [
    "Посмотрим на какой-нибудь конкретный твитт:"
   ]
  },
  {
   "cell_type": "code",
   "metadata": {
    "id": "aJVjjfqOJh8m",
    "ExecuteTime": {
     "end_time": "2025-05-10T10:28:16.267914Z",
     "start_time": "2025-05-10T10:28:16.264722Z"
    }
   },
   "source": [
    "ind = 9023\n",
    "train.iloc[ind]['OriginalTweet'], train.iloc[ind]['Sentiment']"
   ],
   "outputs": [
    {
     "data": {
      "text/plain": [
       "('Nice one @SkyNews lets not panic but show ppl in france queueing for food!!! #CoronavirusOutbreak #COVID2019 brainless!! Ffs',\n",
       " 0)"
      ]
     },
     "execution_count": 28,
     "metadata": {},
     "output_type": "execute_result"
    }
   ],
   "execution_count": 28
  },
  {
   "cell_type": "markdown",
   "metadata": {
    "id": "PBMIHBI5KdaS"
   },
   "source": [
    "Автор твитта не доволен ситуацией с едой во Франции и текст имеет резко негативную окраску.\n",
    "\n",
    "Примените обученный CountVectorizer для векторизации данного текста, и попытайтесь определить самый важный токен и самый неважный токен (токен, компонента которого в векторе максимальна/минимальна, без учета 0). Хорошо ли они определились, почему?"
   ]
  },
  {
   "cell_type": "code",
   "metadata": {
    "id": "7NcAllaEKsJj",
    "ExecuteTime": {
     "end_time": "2025-05-10T10:28:16.901315Z",
     "start_time": "2025-05-10T10:28:16.852966Z"
    }
   },
   "source": [
    "vec = cv.transform([train.iloc[ind]['OriginalTweet']]).toarray()[0]\n",
    "nonzero_idxs = np.nonzero(vec)[0]\n",
    "\n",
    "idx_max = nonzero_idxs[np.argmax(vec[nonzero_idxs])]\n",
    "idx_min = nonzero_idxs[np.argmin(vec[nonzero_idxs])]\n",
    "\n",
    "features = cv.get_feature_names_out()\n",
    "most_popular = features[idx_max]\n",
    "least_popular = features[idx_min]\n",
    "\n",
    "most_popular, least_popular"
   ],
   "outputs": [
    {
     "data": {
      "text/plain": [
       "('#coronavirusoutbreak', '#coronavirusoutbreak')"
      ]
     },
     "execution_count": 29,
     "metadata": {},
     "output_type": "execute_result"
    }
   ],
   "execution_count": 29
  },
  {
   "metadata": {
    "ExecuteTime": {
     "end_time": "2025-05-10T10:28:17.098938Z",
     "start_time": "2025-05-10T10:28:17.095033Z"
    }
   },
   "cell_type": "code",
   "source": "vec[nonzero_idxs]",
   "outputs": [
    {
     "data": {
      "text/plain": [
       "array([1, 1, 1, 1, 1, 1, 1, 1, 1, 1, 1, 1, 1, 1])"
      ]
     },
     "execution_count": 30,
     "metadata": {},
     "output_type": "execute_result"
    }
   ],
   "execution_count": 30
  },
  {
   "cell_type": "markdown",
   "metadata": {
    "id": "TpEsl1k_NF4T"
   },
   "source": "**Ответ:** Все слова одинаково часто встречаются в тексте (по одному разу), поэтому не получится определить самую важную и неважную"
  },
  {
   "cell_type": "markdown",
   "metadata": {
    "id": "w4DsEQpLO3J6"
   },
   "source": [
    "Теперь примените TfidfVectorizer и  определите самый важный/неважный токены. Хорошо ли определились, почему?"
   ]
  },
  {
   "cell_type": "code",
   "metadata": {
    "id": "uSNzdK3ENGB3",
    "ExecuteTime": {
     "end_time": "2025-05-10T10:28:21.501219Z",
     "start_time": "2025-05-10T10:28:17.703545Z"
    }
   },
   "source": [
    "from sklearn.feature_extraction.text import TfidfVectorizer\n",
    "\n",
    "tv = TfidfVectorizer(tokenizer=custom_tokenizer, token_pattern=None)\n",
    "\n",
    "tv.fit_transform(train['OriginalTweet'])"
   ],
   "outputs": [
    {
     "data": {
      "text/plain": [
       "<Compressed Sparse Row sparse matrix of dtype 'float64'\n",
       "\twith 442998 stored elements and shape (23410, 45279)>"
      ]
     },
     "execution_count": 31,
     "metadata": {},
     "output_type": "execute_result"
    }
   ],
   "execution_count": 31
  },
  {
   "metadata": {
    "ExecuteTime": {
     "end_time": "2025-05-10T10:28:21.637917Z",
     "start_time": "2025-05-10T10:28:21.592430Z"
    }
   },
   "cell_type": "code",
   "source": [
    "vec = tv.transform([train.iloc[ind]['OriginalTweet']]).toarray()[0]\n",
    "nonzero_idxs = np.nonzero(vec)[0]\n",
    "\n",
    "idx_max = nonzero_idxs[np.argmax(vec[nonzero_idxs])]\n",
    "idx_min = nonzero_idxs[np.argmin(vec[nonzero_idxs])]\n",
    "\n",
    "features = tv.get_feature_names_out()\n",
    "most_popular = features[idx_max]\n",
    "least_popular = features[idx_min]\n",
    "\n",
    "most_popular, least_popular"
   ],
   "outputs": [
    {
     "data": {
      "text/plain": [
       "('brainless', 'food')"
      ]
     },
     "execution_count": 32,
     "metadata": {},
     "output_type": "execute_result"
    }
   ],
   "execution_count": 32
  },
  {
   "metadata": {
    "ExecuteTime": {
     "end_time": "2025-05-10T10:28:21.664597Z",
     "start_time": "2025-05-10T10:28:21.660783Z"
    }
   },
   "cell_type": "code",
   "source": "vec[nonzero_idxs]",
   "outputs": [
    {
     "data": {
      "text/plain": [
       "array([0.22584265, 0.16825193, 0.31042634, 0.38676412, 0.32447418,\n",
       "       0.11328893, 0.32047314, 0.3012107 , 0.25427292, 0.16306723,\n",
       "       0.1475947 , 0.25500646, 0.35434556, 0.24406492])"
      ]
     },
     "execution_count": 33,
     "metadata": {},
     "output_type": "execute_result"
    }
   ],
   "execution_count": 33
  },
  {
   "cell_type": "markdown",
   "metadata": {
    "id": "NYao_UhqQADm"
   },
   "source": "**Ответ:** самый важный токен -- brainless, самый неважный -- food. Сейчас получилось, потому что TfidfVectorizer учитывает не только частоту слова в тексте, но и частоту слова во всем документе"
  },
  {
   "cell_type": "markdown",
   "metadata": {
    "id": "LGRJPqfWSesQ"
   },
   "source": [
    "Найдите какой-нибудь положительно окрашенный твитт, где TfidfVectorizer хорошо (полезно для определения окраски) выделяет важный токен, поясните пример.\n",
    "\n",
    "*Подсказка:* явно положительные твитты можно искать при помощи положительных слов (good, great, amazing и т. д.)"
   ]
  },
  {
   "cell_type": "code",
   "metadata": {
    "id": "bRbQ2CHiSuJI",
    "colab": {
     "base_uri": "https://localhost:8080/",
     "height": 53
    },
    "outputId": "c4b34a7d-1076-4e1e-ad5c-9466fd2097c2",
    "ExecuteTime": {
     "end_time": "2025-05-10T10:28:21.847899Z",
     "start_time": "2025-05-10T10:28:21.826502Z"
    }
   },
   "source": "train[train['OriginalTweet'].apply(lambda x: 'fantastic' in x) & (train['Sentiment'] == 1)]",
   "outputs": [
    {
     "data": {
      "text/plain": [
       "       UserName  ScreenName                       Location     TweetAt  \\\n",
       "9322      15113       60065               Toronto, Ontario  20-03-2020   \n",
       "24489     33756       78708                    Chicago, IL  06-04-2020   \n",
       "2631       6980       51932                        Unknown  18-03-2020   \n",
       "5645      10654       55606          Coventry, ENG ???????  19-03-2020   \n",
       "16754     24196       69148                        Unknown  25-03-2020   \n",
       "15864     23086       68038  Cumbria & South West Scotland  24-03-2020   \n",
       "16627     24042       68994              Saskatoon, Canada  24-03-2020   \n",
       "\n",
       "                                           OriginalTweet  Sentiment  \n",
       "9322   For all the grocery store workers during this ...          1  \n",
       "24489  Thanks @AldiUSA for the fantastic online shopp...          1  \n",
       "2631   @TheSun The panic buying will continue for wee...          1  \n",
       "5645   @drphilhammond to clarify: our pub is fantasti...          1  \n",
       "16754    Town have pledged to pay tribute to the fant...          1  \n",
       "15864  NEW DEALS AVAILABLE EVERYDAY When browsing our...          1  \n",
       "16627  Absolutely fantastic TEDx Talk.\\r\\r\\nWhy are p...          1  "
      ],
      "text/html": [
       "<div>\n",
       "<style scoped>\n",
       "    .dataframe tbody tr th:only-of-type {\n",
       "        vertical-align: middle;\n",
       "    }\n",
       "\n",
       "    .dataframe tbody tr th {\n",
       "        vertical-align: top;\n",
       "    }\n",
       "\n",
       "    .dataframe thead th {\n",
       "        text-align: right;\n",
       "    }\n",
       "</style>\n",
       "<table border=\"1\" class=\"dataframe\">\n",
       "  <thead>\n",
       "    <tr style=\"text-align: right;\">\n",
       "      <th></th>\n",
       "      <th>UserName</th>\n",
       "      <th>ScreenName</th>\n",
       "      <th>Location</th>\n",
       "      <th>TweetAt</th>\n",
       "      <th>OriginalTweet</th>\n",
       "      <th>Sentiment</th>\n",
       "    </tr>\n",
       "  </thead>\n",
       "  <tbody>\n",
       "    <tr>\n",
       "      <th>9322</th>\n",
       "      <td>15113</td>\n",
       "      <td>60065</td>\n",
       "      <td>Toronto, Ontario</td>\n",
       "      <td>20-03-2020</td>\n",
       "      <td>For all the grocery store workers during this ...</td>\n",
       "      <td>1</td>\n",
       "    </tr>\n",
       "    <tr>\n",
       "      <th>24489</th>\n",
       "      <td>33756</td>\n",
       "      <td>78708</td>\n",
       "      <td>Chicago, IL</td>\n",
       "      <td>06-04-2020</td>\n",
       "      <td>Thanks @AldiUSA for the fantastic online shopp...</td>\n",
       "      <td>1</td>\n",
       "    </tr>\n",
       "    <tr>\n",
       "      <th>2631</th>\n",
       "      <td>6980</td>\n",
       "      <td>51932</td>\n",
       "      <td>Unknown</td>\n",
       "      <td>18-03-2020</td>\n",
       "      <td>@TheSun The panic buying will continue for wee...</td>\n",
       "      <td>1</td>\n",
       "    </tr>\n",
       "    <tr>\n",
       "      <th>5645</th>\n",
       "      <td>10654</td>\n",
       "      <td>55606</td>\n",
       "      <td>Coventry, ENG ???????</td>\n",
       "      <td>19-03-2020</td>\n",
       "      <td>@drphilhammond to clarify: our pub is fantasti...</td>\n",
       "      <td>1</td>\n",
       "    </tr>\n",
       "    <tr>\n",
       "      <th>16754</th>\n",
       "      <td>24196</td>\n",
       "      <td>69148</td>\n",
       "      <td>Unknown</td>\n",
       "      <td>25-03-2020</td>\n",
       "      <td>Town have pledged to pay tribute to the fant...</td>\n",
       "      <td>1</td>\n",
       "    </tr>\n",
       "    <tr>\n",
       "      <th>15864</th>\n",
       "      <td>23086</td>\n",
       "      <td>68038</td>\n",
       "      <td>Cumbria &amp; South West Scotland</td>\n",
       "      <td>24-03-2020</td>\n",
       "      <td>NEW DEALS AVAILABLE EVERYDAY When browsing our...</td>\n",
       "      <td>1</td>\n",
       "    </tr>\n",
       "    <tr>\n",
       "      <th>16627</th>\n",
       "      <td>24042</td>\n",
       "      <td>68994</td>\n",
       "      <td>Saskatoon, Canada</td>\n",
       "      <td>24-03-2020</td>\n",
       "      <td>Absolutely fantastic TEDx Talk.\\r\\r\\nWhy are p...</td>\n",
       "      <td>1</td>\n",
       "    </tr>\n",
       "  </tbody>\n",
       "</table>\n",
       "</div>"
      ]
     },
     "execution_count": 34,
     "metadata": {},
     "output_type": "execute_result"
    }
   ],
   "execution_count": 34
  },
  {
   "metadata": {
    "ExecuteTime": {
     "end_time": "2025-05-10T10:33:59.532671Z",
     "start_time": "2025-05-10T10:33:59.529288Z"
    }
   },
   "cell_type": "code",
   "source": [
    "ind = 24489\n",
    "train.loc[ind]['OriginalTweet'], train.loc[ind]['Sentiment']"
   ],
   "outputs": [
    {
     "data": {
      "text/plain": [
       "('Thanks @AldiUSA for the fantastic online shopping and delivery! Grateful for all your workers on the front lines. #gratitude #COVID19 #coronavirus #stayhome #besafe ?? #groceryshopping #familymeals https://t.co/3KybCWqdPp',\n",
       " 1)"
      ]
     },
     "execution_count": 48,
     "metadata": {},
     "output_type": "execute_result"
    }
   ],
   "execution_count": 48
  },
  {
   "cell_type": "code",
   "source": [
    "vec = tv.transform([train.loc[ind]['OriginalTweet']]).toarray()[0]\n",
    "nonzero_idxs = np.nonzero(vec)[0]\n",
    "\n",
    "features = tv.get_feature_names_out()\n",
    "cur_dict = {token: count for token, count in zip(features[nonzero_idxs], vec[nonzero_idxs])}\n",
    "cur_dict = dict(sorted(cur_dict.items(), key=lambda x: x[1], reverse=True))\n",
    "cur_dict"
   ],
   "metadata": {
    "id": "jSjbKPCWk87K",
    "ExecuteTime": {
     "end_time": "2025-05-10T10:34:00.239482Z",
     "start_time": "2025-05-10T10:34:00.176297Z"
    }
   },
   "outputs": [
    {
     "data": {
      "text/plain": [
       "{'#familymeals': 0.3847808400932138,\n",
       " '@aldiusa': 0.3507745284133991,\n",
       " '#gratitude': 0.32895999309990054,\n",
       " 'fantastic': 0.3182832440286965,\n",
       " '#besafe': 0.3125622475354339,\n",
       " '#groceryshopping': 0.2807396842157967,\n",
       " 'grateful': 0.2550149025038896,\n",
       " 'lines': 0.21798609456287135,\n",
       " 'front': 0.2082011498920851,\n",
       " '#stayhome': 0.20788394270459906,\n",
       " 'thanks': 0.19969729054295393,\n",
       " 'delivery': 0.16664034383612705,\n",
       " 'workers': 0.14377805640433702,\n",
       " 'online': 0.13517229559428326,\n",
       " 'shopping': 0.1326340321563124,\n",
       " '#covid19': 0.118991455247164,\n",
       " '#coronavirus': 0.07359124690912826}"
      ]
     },
     "execution_count": 49,
     "metadata": {},
     "output_type": "execute_result"
    }
   ],
   "execution_count": 49
  },
  {
   "cell_type": "markdown",
   "metadata": {
    "id": "JTv9ST2_U6NA"
   },
   "source": "**Ответ:** слово fantastic явно характеризует положительную окраску данного твита"
  },
  {
   "cell_type": "markdown",
   "metadata": {
    "id": "JVEuZm8BHms6"
   },
   "source": [
    "## Задание 4 Обучение первых моделей (1 балл)"
   ]
  },
  {
   "cell_type": "markdown",
   "metadata": {
    "id": "JADkO3sfXdOG"
   },
   "source": [
    "Примените оба векторайзера для получения матриц с признаками текстов.  Выделите целевую переменную."
   ]
  },
  {
   "cell_type": "code",
   "metadata": {
    "id": "DguoiXhCX2oN",
    "ExecuteTime": {
     "end_time": "2025-05-10T10:57:01.688186Z",
     "start_time": "2025-05-10T10:56:54.849962Z"
    }
   },
   "source": [
    "y_train = train['Sentiment']\n",
    "y_test = test['Sentiment']\n",
    "\n",
    "cv = CountVectorizer(tokenizer=custom_tokenizer, token_pattern=None)\n",
    "X_bow = cv.fit_transform(train['OriginalTweet'])\n",
    "\n",
    "tv = TfidfVectorizer(tokenizer=custom_tokenizer, token_pattern=None)\n",
    "X_tfidf = tv.fit_transform(train['OriginalTweet'])"
   ],
   "outputs": [],
   "execution_count": 59
  },
  {
   "cell_type": "markdown",
   "metadata": {
    "id": "_FX1KSOfYSx4"
   },
   "source": [
    "Обучите логистическую регрессию на векторах из обоих векторайзеров. Посчитайте долю правильных ответов на обучающих и тестовых данных. Какой векторайзер показал лучший результат? Что можно сказать о моделях?\n",
    "\n",
    "Используйте `sparse` матрицы (после векторизации), не превращайте их в `numpy.ndarray` или `pd.DataFrame` - может не хватить памяти."
   ]
  },
  {
   "cell_type": "code",
   "metadata": {
    "id": "-Tb3eh8UXJ6v",
    "ExecuteTime": {
     "end_time": "2025-05-10T10:54:30.556327Z",
     "start_time": "2025-05-10T10:54:30.553910Z"
    }
   },
   "source": [
    "from sklearn.linear_model import LogisticRegression\n",
    "from sklearn.metrics import accuracy_score"
   ],
   "outputs": [],
   "execution_count": 55
  },
  {
   "metadata": {
    "ExecuteTime": {
     "end_time": "2025-05-10T10:57:11.036172Z",
     "start_time": "2025-05-10T10:57:09.017145Z"
    }
   },
   "cell_type": "code",
   "source": [
    "X_bow_test = cv.transform(test['OriginalTweet'])\n",
    "\n",
    "clf = LogisticRegression(random_state=42)\n",
    "clf.fit(X_bow, y_train)\n",
    "y_pred = clf.predict(X_bow_test)\n",
    "accuracy_score(y_test, y_pred)"
   ],
   "outputs": [
    {
     "data": {
      "text/plain": [
       "0.8672513454255532"
      ]
     },
     "execution_count": 61,
     "metadata": {},
     "output_type": "execute_result"
    }
   ],
   "execution_count": 61
  },
  {
   "metadata": {
    "ExecuteTime": {
     "end_time": "2025-05-10T10:57:07.898354Z",
     "start_time": "2025-05-10T10:57:06.318407Z"
    }
   },
   "cell_type": "code",
   "source": [
    "X_tfidf_test = tv.transform(test['OriginalTweet'])\n",
    "\n",
    "clf = LogisticRegression(random_state=42)\n",
    "clf.fit(X_tfidf, y_train)\n",
    "y_pred = clf.predict(X_tfidf_test)\n",
    "accuracy_score(y_test, y_pred)"
   ],
   "outputs": [
    {
     "data": {
      "text/plain": [
       "0.8527008172214471"
      ]
     },
     "execution_count": 60,
     "metadata": {},
     "output_type": "execute_result"
    }
   ],
   "execution_count": 60
  },
  {
   "metadata": {},
   "cell_type": "markdown",
   "source": "**Ответ:** CountVectorizer показал лучший результат. Tfidf, несмотря на усовершенствованный векторайзер, показал результат чуть хуже."
  },
  {
   "cell_type": "markdown",
   "metadata": {
    "id": "rSOR1i3mjrys"
   },
   "source": [
    "## Задание 5 Стемминг (0.5 балла)"
   ]
  },
  {
   "cell_type": "markdown",
   "metadata": {
    "id": "i6ONBWNPjuq-"
   },
   "source": [
    "Для уменьшения словаря можно использовать стемминг.\n",
    "\n",
    "Модифицируйте написанный токенайзер, добавив в него стемминг с использованием SnowballStemmer. Обучите Count- и Tfidf- векторайзеры. Как изменился размер словаря?"
   ]
  },
  {
   "metadata": {
    "ExecuteTime": {
     "end_time": "2025-05-10T11:03:28.287657Z",
     "start_time": "2025-05-10T11:03:28.284603Z"
    }
   },
   "cell_type": "code",
   "source": "from nltk.stem.snowball import SnowballStemmer",
   "outputs": [],
   "execution_count": 62
  },
  {
   "cell_type": "code",
   "metadata": {
    "id": "oVfA2-iMkQBb",
    "ExecuteTime": {
     "end_time": "2025-05-10T11:15:05.350283Z",
     "start_time": "2025-05-10T11:15:05.346142Z"
    }
   },
   "source": [
    "def custom_stem_tokenizer(text):\n",
    "    text = text.lower()\n",
    "\n",
    "    tokens = TweetTokenizer().tokenize(text)\n",
    "    tokens = [token for token in tokens if token not in stop_words and token not in punctuation]\n",
    "    tokens = [token for token in tokens if len(token) > 1 or ord(token) < 128]\n",
    "    tokens = [token for token in tokens if 'https://t.co/' not in token]\n",
    "\n",
    "    stemmer = SnowballStemmer('english')\n",
    "    tokens = [stemmer.stem(token) for token in tokens]\n",
    "\n",
    "    return tokens"
   ],
   "outputs": [],
   "execution_count": 88
  },
  {
   "cell_type": "code",
   "metadata": {
    "colab": {
     "base_uri": "https://localhost:8080/"
    },
    "id": "9QmrjYtqnlPd",
    "outputId": "cd91291d-9676-4611-9fc4-28afaed58963",
    "ExecuteTime": {
     "end_time": "2025-05-10T11:15:05.568995Z",
     "start_time": "2025-05-10T11:15:05.565574Z"
    }
   },
   "source": [
    "custom_stem_tokenizer('This is sample text!!!! @Sample_text I, \\x92\\x92 https://t.co/sample  #sampletext adding more words to check stemming')"
   ],
   "outputs": [
    {
     "data": {
      "text/plain": [
       "['sampl', 'text', '@sample_text', '#sampletext', 'ad', 'word', 'check', 'stem']"
      ]
     },
     "execution_count": 89,
     "metadata": {},
     "output_type": "execute_result"
    }
   ],
   "execution_count": 89
  },
  {
   "cell_type": "code",
   "metadata": {
    "colab": {
     "base_uri": "https://localhost:8080/"
    },
    "id": "zAvUTmaplzOS",
    "outputId": "566207fe-183b-4ed6-d333-f86f0cc9ae38",
    "ExecuteTime": {
     "end_time": "2025-05-10T11:15:11.574319Z",
     "start_time": "2025-05-10T11:15:05.833370Z"
    }
   },
   "source": [
    "cv = CountVectorizer(tokenizer=custom_stem_tokenizer, token_pattern=None)\n",
    "\n",
    "cv.fit_transform(train['OriginalTweet'])\n",
    "\n",
    "print(len(cv.vocabulary_))"
   ],
   "outputs": [
    {
     "name": "stdout",
     "output_type": "stream",
     "text": [
      "36632\n"
     ]
    }
   ],
   "execution_count": 90
  },
  {
   "cell_type": "markdown",
   "metadata": {
    "id": "Oyzs5TaAoHP6"
   },
   "source": "**Ответ** Еще сильнее уменьшился, почти на 25%"
  },
  {
   "cell_type": "markdown",
   "metadata": {
    "id": "1OkncHI8oRmd"
   },
   "source": [
    "Обучите логистическую регрессию с использованием обоих векторайзеров. Изменилось ли качество? Есть ли смысл применять стемминг?"
   ]
  },
  {
   "metadata": {
    "ExecuteTime": {
     "end_time": "2025-05-10T11:10:40.973266Z",
     "start_time": "2025-05-10T11:10:28.549477Z"
    }
   },
   "cell_type": "code",
   "source": [
    "y_train = train['Sentiment']\n",
    "y_test = test['Sentiment']\n",
    "\n",
    "cv = CountVectorizer(tokenizer=custom_stem_tokenizer, token_pattern=None)\n",
    "X_bow = cv.fit_transform(train['OriginalTweet'])\n",
    "\n",
    "tv = TfidfVectorizer(tokenizer=custom_stem_tokenizer, token_pattern=None)\n",
    "X_tfidf = tv.fit_transform(train['OriginalTweet'])"
   ],
   "outputs": [],
   "execution_count": 70
  },
  {
   "cell_type": "code",
   "metadata": {
    "id": "ykZJPphEoZ5W",
    "ExecuteTime": {
     "end_time": "2025-05-10T11:10:44.278297Z",
     "start_time": "2025-05-10T11:10:40.977067Z"
    }
   },
   "source": [
    "X_bow_test = cv.transform(test['OriginalTweet'])\n",
    "\n",
    "clf = LogisticRegression(random_state=42)\n",
    "clf.fit(X_bow, y_train)\n",
    "y_pred = clf.predict(X_bow_test)\n",
    "accuracy_score(y_test, y_pred)"
   ],
   "outputs": [
    {
     "data": {
      "text/plain": [
       "0.8673510065776361"
      ]
     },
     "execution_count": 71,
     "metadata": {},
     "output_type": "execute_result"
    }
   ],
   "execution_count": 71
  },
  {
   "metadata": {
    "ExecuteTime": {
     "end_time": "2025-05-10T11:10:47.268187Z",
     "start_time": "2025-05-10T11:10:44.365650Z"
    }
   },
   "cell_type": "code",
   "source": [
    "X_tfidf_test = tv.transform(test['OriginalTweet'])\n",
    "\n",
    "clf = LogisticRegression(random_state=42)\n",
    "clf.fit(X_tfidf, y_train)\n",
    "y_pred = clf.predict(X_tfidf_test)\n",
    "accuracy_score(y_test, y_pred)"
   ],
   "outputs": [
    {
     "data": {
      "text/plain": [
       "0.8566872633047639"
      ]
     },
     "execution_count": 72,
     "metadata": {},
     "output_type": "execute_result"
    }
   ],
   "execution_count": 72
  },
  {
   "cell_type": "markdown",
   "metadata": {
    "id": "bCRlrODro0h8"
   },
   "source": "**Ответ:** Качество метрики не изменилось, получается, что смысла применять стемминг нет."
  },
  {
   "cell_type": "markdown",
   "metadata": {
    "id": "hYWGQNEDqLC-"
   },
   "source": [
    "## Задание  6 Работа с частотами (1.5 балла)"
   ]
  },
  {
   "cell_type": "markdown",
   "metadata": {
    "id": "8Hq-tl5mqUSn"
   },
   "source": [
    "Еще один способ уменьшить количество признаков - это использовать параметры min_df и max_df при построении векторайзера  эти параметры помогают ограничить требуемую частоту встречаемости токена в документах.\n",
    "\n",
    "По умолчанию берутся все токены, которые встретились хотя бы один раз.\n",
    "\n"
   ]
  },
  {
   "cell_type": "markdown",
   "metadata": {
    "id": "m1SiD4DE3WZ2"
   },
   "source": "Подберите max_df такой, что размер словаря будет 36631Я (на 1 меньше, чем было). Почему параметр получился такой большой/маленький?"
  },
  {
   "cell_type": "code",
   "source": [
    "cv_df = CountVectorizer(tokenizer=custom_stem_tokenizer,\n",
    "                        token_pattern=None,\n",
    "                        max_df=8000\n",
    "                        ).fit(\n",
    "                        train['OriginalTweet']\n",
    "                            )\n",
    "print(len(cv_df.vocabulary_))"
   ],
   "metadata": {
    "colab": {
     "base_uri": "https://localhost:8080/"
    },
    "id": "o3YLb8PViExb",
    "outputId": "b6d67654-d232-4e11-a5ca-6f2145053e98",
    "ExecuteTime": {
     "end_time": "2025-05-10T11:26:07.231226Z",
     "start_time": "2025-05-10T11:26:01.415068Z"
    }
   },
   "outputs": [
    {
     "name": "stdout",
     "output_type": "stream",
     "text": [
      "36631\n"
     ]
    }
   ],
   "execution_count": 109
  },
  {
   "metadata": {
    "ExecuteTime": {
     "end_time": "2025-05-10T11:28:27.827299Z",
     "start_time": "2025-05-10T11:28:19.418262Z"
    }
   },
   "cell_type": "code",
   "source": [
    "y_train = train['Sentiment']\n",
    "y_test = test['Sentiment']\n",
    "\n",
    "X_bow = cv_df.transform(train['OriginalTweet'])\n",
    "\n",
    "clf = LogisticRegression(random_state=42)\n",
    "clf.fit(X_bow, y_train)\n",
    "\n",
    "X_bow_test = cv_df.transform(test['OriginalTweet'])\n",
    "y_pred = clf.predict(X_bow_test)\n",
    "accuracy_score(y_test, y_pred)"
   ],
   "outputs": [
    {
     "data": {
      "text/plain": [
       "0.8672513454255532"
      ]
     },
     "execution_count": 111,
     "metadata": {},
     "output_type": "execute_result"
    }
   ],
   "execution_count": 111
  },
  {
   "cell_type": "markdown",
   "metadata": {
    "id": "UdZYoGZR4UsA"
   },
   "source": "**Ответ:** параметр большой так как сопоставим с частотой самого частого слова"
  },
  {
   "cell_type": "markdown",
   "metadata": {
    "id": "_gRIUaB1u32f"
   },
   "source": [
    "Подберите min_df (используйте дефолтное значение max_df) в CountVectorizer таким образом, чтобы размер словаря был 3700 токенов (при использовании токенайзера со стеммингом), а качество осталось таким же, как и было. Что можно сказать о результатах?"
   ]
  },
  {
   "cell_type": "code",
   "metadata": {
    "colab": {
     "base_uri": "https://localhost:8080/"
    },
    "id": "kSnMJkn9XmsT",
    "outputId": "e0d8eb21-e5d7-46b4-e1d1-4b1ae220e9a0",
    "ExecuteTime": {
     "end_time": "2025-05-10T11:28:46.258699Z",
     "start_time": "2025-05-10T11:28:40.447577Z"
    }
   },
   "source": [
    "cv_df = CountVectorizer(tokenizer=custom_stem_tokenizer,\n",
    "                        token_pattern=None,\n",
    "                        min_df=11\n",
    "                        ).fit(\n",
    "    train['OriginalTweet']\n",
    ")\n",
    "print(len(cv_df.vocabulary_))"
   ],
   "outputs": [
    {
     "name": "stdout",
     "output_type": "stream",
     "text": [
      "3687\n"
     ]
    }
   ],
   "execution_count": 112
  },
  {
   "cell_type": "code",
   "source": [
    "y_train = train['Sentiment']\n",
    "y_test = test['Sentiment']\n",
    "\n",
    "X_bow = cv_df.transform(train['OriginalTweet'])\n",
    "\n",
    "clf = LogisticRegression(random_state=42)\n",
    "clf.fit(X_bow, y_train)\n",
    "\n",
    "X_bow_test = cv_df.transform(test['OriginalTweet'])\n",
    "y_pred = clf.predict(X_bow_test)\n",
    "accuracy_score(y_test, y_pred)"
   ],
   "metadata": {
    "id": "mvMDwpdfjm8Y",
    "ExecuteTime": {
     "end_time": "2025-05-10T11:28:54.281682Z",
     "start_time": "2025-05-10T11:28:46.340178Z"
    }
   },
   "outputs": [
    {
     "data": {
      "text/plain": [
       "0.8680486346422165"
      ]
     },
     "execution_count": 113,
     "metadata": {},
     "output_type": "execute_result"
    }
   ],
   "execution_count": 113
  },
  {
   "cell_type": "markdown",
   "metadata": {
    "id": "3fGYpUIZx0fk"
   },
   "source": "**Ответ:** Качество улучшилось, но буквально на одну тысячную, что незначительно. Однако слов в словаре стало гораздо меньше. Это может облегчить работу с ним."
  },
  {
   "cell_type": "markdown",
   "source": [
    "В предыдущих заданиях признаки не скалировались. Отскалируйте данные (при словаре размера 3.7 тысяч, векторизованные CountVectorizer), обучите логистическую регрессию, посмотрите качество и выведите `barplot`, содержащий по 10 токенов, с наибольшим по модулю положительными/отрицательными весами. Что можно сказать об этих токенах?"
   ],
   "metadata": {
    "id": "Gx_h_-inKbBl"
   }
  },
  {
   "cell_type": "code",
   "source": [
    "from sklearn.preprocessing import StandardScaler\n",
    "\n",
    "scaler = StandardScaler(with_mean=False)\n",
    "X_train_scaled = scaler.fit_transform(X_bow)\n",
    "X_test_scaled = scaler.transform(X_bow_test)\n",
    "\n",
    "clf = LogisticRegression(random_state=42)\n",
    "clf.fit(X_train_scaled, y_train)\n",
    "\n",
    "y_pred = clf.predict(X_test_scaled)\n",
    "accuracy_score(y_test, y_pred)"
   ],
   "metadata": {
    "id": "KBATXJX6LG9q",
    "ExecuteTime": {
     "end_time": "2025-05-10T11:33:29.927202Z",
     "start_time": "2025-05-10T11:33:29.848887Z"
    }
   },
   "outputs": [
    {
     "data": {
      "text/plain": [
       "0.8447279250548136"
      ]
     },
     "execution_count": 116,
     "metadata": {},
     "output_type": "execute_result"
    }
   ],
   "execution_count": 116
  },
  {
   "metadata": {
    "ExecuteTime": {
     "end_time": "2025-05-10T11:45:15.324561Z",
     "start_time": "2025-05-10T11:45:15.221053Z"
    }
   },
   "cell_type": "code",
   "source": [
    "feature_names = cv_df.get_feature_names_out()\n",
    "coefs = abs(clf.coef_[0])\n",
    "\n",
    "coefs_df = pd.DataFrame({\n",
    "    'Feature': feature_names,\n",
    "    'Coefficient': coefs\n",
    "})\n",
    "\n",
    "top = coefs_df.nlargest(10, 'Coefficient')\n",
    "\n",
    "plt.figure(figsize=(7, 5))\n",
    "sns.barplot(x='Coefficient', y='Feature', data=top)\n",
    "plt.title('Top 10 features')\n",
    "plt.show()"
   ],
   "outputs": [
    {
     "data": {
      "text/plain": [
       "<Figure size 700x500 with 1 Axes>"
      ],
      "image/png": "[encoded data removed]"
     },
     "metadata": {},
     "output_type": "display_data"
    }
   ],
   "execution_count": 127
  },
  {
   "cell_type": "markdown",
   "source": "**Ответ:** Они имеют ярковыражанный положительный/отрицательный семантический окрас",
   "metadata": {
    "id": "ThcEfzY1LHET"
   }
  },
  {
   "cell_type": "markdown",
   "metadata": {
    "id": "ktJVOdrIHq7B"
   },
   "source": [
    "## Задание 7 Другие признаки (1.5 балла)"
   ]
  },
  {
   "cell_type": "markdown",
   "metadata": {
    "id": "Yt3jRCZ2H0Og"
   },
   "source": [
    "Мы были сконцентрированы на работе с текстами твиттов и не использовали другие признаки - имена пользователя, дату и местоположение"
   ]
  },
  {
   "cell_type": "markdown",
   "metadata": {
    "id": "52wjewCCo_di"
   },
   "source": [
    "Изучите признаки UserName и ScreenName. полезны ли они? Если полезны, то закодируйте их, добавьте к матрице с отскалированными признаками, обучите логистическую регрессию, замерьте качество."
   ]
  },
  {
   "cell_type": "code",
   "metadata": {
    "id": "63thouYZptj6",
    "ExecuteTime": {
     "end_time": "2025-05-10T11:57:03.457431Z",
     "start_time": "2025-05-10T11:57:03.278434Z"
    }
   },
   "source": [
    "from sklearn.feature_selection import mutual_info_classif\n",
    "\n",
    "X_tmp = np.vstack([\n",
    "    df['UserName'],\n",
    "    df['ScreenName']\n",
    "]).T\n",
    "mi = mutual_info_classif(X_tmp, df['Sentiment'])\n",
    "print(f\"UserName: {mi[0]}, ScreenName: {mi[1]}\")"
   ],
   "outputs": [
    {
     "name": "stdout",
     "output_type": "stream",
     "text": [
      "UserName: 0.003528197777592723, ScreenName: 0.0030558092285413174\n"
     ]
    }
   ],
   "execution_count": 134
  },
  {
   "cell_type": "markdown",
   "metadata": {
    "id": "r8_qR-gnpT3a"
   },
   "source": "**Ответ:** Признаки UserName и ScreenName не полезны для целевой переменной, их добавление не повысит качество модели"
  },
  {
   "cell_type": "markdown",
   "metadata": {
    "id": "ythEcFSkt7y3"
   },
   "source": [
    "Изучите признак TweetAt в обучающей выборке: преобразуйте его к типу datetime и нарисуйте его гистограмму с разделением по цвету на основе целевой переменной. Полезен ли он? Если полезен, то закодируйте его, добавьте к матрице с отскалированными признаками, обучите логистическую регрессию, замерьте качество."
   ]
  },
  {
   "cell_type": "code",
   "source": "df['TweetAt_dt'] = pd.to_datetime(df['TweetAt'], dayfirst=True)",
   "metadata": {
    "id": "Lxb_k0JLirNv",
    "ExecuteTime": {
     "end_time": "2025-05-10T13:22:18.819308Z",
     "start_time": "2025-05-10T13:22:18.810878Z"
    }
   },
   "outputs": [],
   "execution_count": 149
  },
  {
   "metadata": {
    "ExecuteTime": {
     "end_time": "2025-05-10T13:21:55.102688Z",
     "start_time": "2025-05-10T13:21:54.803485Z"
    }
   },
   "cell_type": "code",
   "source": [
    "df['Sentiment_lbl'] = df['Sentiment'].map({0: 'Negative', 1: 'Positive'})\n",
    "\n",
    "plt.figure(figsize=(12, 5))\n",
    "ax = sns.histplot(\n",
    "    data=df,\n",
    "    x='TweetAt_dt',\n",
    "    hue='Sentiment_lbl',\n",
    "    element='bars',\n",
    "    multiple='dodge',\n",
    "    shrink=0.8,\n",
    "    bins=30,\n",
    "    palette='Set2'\n",
    ")\n",
    "\n",
    "\n",
    "ax.set_title('Tweet distribution by date')\n",
    "ax.set_xlabel('Tweet date')\n",
    "ax.set_ylabel('Count')\n",
    "\n",
    "plt.tight_layout()\n",
    "plt.show()"
   ],
   "outputs": [
    {
     "data": {
      "text/plain": [
       "<Figure size 1200x500 with 1 Axes>"
      ],
      "image/png": "[encoded data removed]"
     },
     "metadata": {},
     "output_type": "display_data"
    }
   ],
   "execution_count": 148
  },
  {
   "cell_type": "markdown",
   "metadata": {
    "id": "4IdLBdpQxM-G"
   },
   "source": [
    "**Ответ:** Признак TweetAt не полезен для целевой переменной, так как распределение позитивных отзывов совпадает с распределением отрицательных, его добавление не повысит качество модели\n",
    "\n"
   ]
  },
  {
   "cell_type": "markdown",
   "source": [
    "Поработайте с признаком Location в обучающей выборке. Сколько уникальных значений?"
   ],
   "metadata": {
    "id": "r2JtRPhNP6qx"
   }
  },
  {
   "cell_type": "code",
   "source": "df['Location'].nunique()",
   "metadata": {
    "id": "xYQZQ1FRNpoe",
    "ExecuteTime": {
     "end_time": "2025-05-10T13:32:02.826433Z",
     "start_time": "2025-05-10T13:32:02.816496Z"
    }
   },
   "outputs": [
    {
     "data": {
      "text/plain": [
       "10465"
      ]
     },
     "execution_count": 152,
     "metadata": {},
     "output_type": "execute_result"
    }
   ],
   "execution_count": 152
  },
  {
   "cell_type": "markdown",
   "source": [
    "Постройте гистограмму топ-10 по популярности местоположений (исключая Unknown)"
   ],
   "metadata": {
    "id": "6k4JwpRTQISa"
   }
  },
  {
   "cell_type": "code",
   "source": [
    "plt.figure(figsize=(12, 5))\n",
    "df['Location'].value_counts()[1:11].plot(kind='bar')\n",
    "plt.title('Top-10 locations')\n",
    "plt.ylabel('Count')\n",
    "plt.show()"
   ],
   "metadata": {
    "id": "J91YkhegJ0mz",
    "ExecuteTime": {
     "end_time": "2025-05-10T13:34:05.777713Z",
     "start_time": "2025-05-10T13:34:05.624646Z"
    }
   },
   "outputs": [
    {
     "data": {
      "text/plain": [
       "<Figure size 1200x500 with 1 Axes>"
      ],
      "image/png": "[encoded data removed]"
     },
     "metadata": {},
     "output_type": "display_data"
    }
   ],
   "execution_count": 156
  },
  {
   "cell_type": "markdown",
   "source": [
    "Видно, что многие местоположения включают в себя более точное название места, чем другие (Например, у некоторых стоит London, UK; а у некоторых просто UK или United Kingdom).\n",
    "\n",
    "Создайте новый признак WiderLocation, который содержит самое широкое местоположение (например, из London, UK должно получиться UK). Сколько уникальных категорий теперь? Постройте аналогичную гистограмму."
   ],
   "metadata": {
    "id": "ZOsv3lODTfYB"
   }
  },
  {
   "cell_type": "code",
   "source": [
    "df['WiderLocation'] = df['Location'].apply(lambda x: x.split(',')[-1].strip())\n",
    "test['WiderLocation'] = test['Location'].apply(lambda x: x.split(',')[-1].strip())\n",
    "train['WiderLocation'] = train['Location'].apply(lambda x: x.split(',')[-1].strip())\n",
    "df.head()"
   ],
   "metadata": {
    "id": "mSkow6acOMyD",
    "ExecuteTime": {
     "end_time": "2025-05-10T13:50:43.240817Z",
     "start_time": "2025-05-10T13:50:43.191437Z"
    }
   },
   "outputs": [
    {
     "data": {
      "text/plain": [
       "   UserName  ScreenName                     Location     TweetAt  \\\n",
       "0      3800       48752                           UK  16-03-2020   \n",
       "1      3801       48753                    Vagabonds  16-03-2020   \n",
       "2      3802       48754                      Unknown  16-03-2020   \n",
       "3      3803       48755                      Unknown  16-03-2020   \n",
       "4      3804       48756  ÃÂT: 36.319708,-82.363649  16-03-2020   \n",
       "\n",
       "                                       OriginalTweet  Sentiment TweetAt_dt  \\\n",
       "0  advice Talk to your neighbours family to excha...          1 2020-03-16   \n",
       "1  Coronavirus Australia: Woolworths to give elde...          1 2020-03-16   \n",
       "2  My food stock is not the only one which is emp...          1 2020-03-16   \n",
       "3  Me, ready to go at supermarket during the #COV...          0 2020-03-16   \n",
       "4  As news of the regionÃÂs first confirmed COV...          1 2020-03-16   \n",
       "\n",
       "  Sentiment_lbl WiderLocation WiderLocation_masked  \n",
       "0      Positive            UK                   UK  \n",
       "1      Positive     Vagabonds                OTHER  \n",
       "2      Positive       Unknown              Unknown  \n",
       "3      Negative       Unknown              Unknown  \n",
       "4      Positive    -82.363649                OTHER  "
      ],
      "text/html": [
       "<div>\n",
       "<style scoped>\n",
       "    .dataframe tbody tr th:only-of-type {\n",
       "        vertical-align: middle;\n",
       "    }\n",
       "\n",
       "    .dataframe tbody tr th {\n",
       "        vertical-align: top;\n",
       "    }\n",
       "\n",
       "    .dataframe thead th {\n",
       "        text-align: right;\n",
       "    }\n",
       "</style>\n",
       "<table border=\"1\" class=\"dataframe\">\n",
       "  <thead>\n",
       "    <tr style=\"text-align: right;\">\n",
       "      <th></th>\n",
       "      <th>UserName</th>\n",
       "      <th>ScreenName</th>\n",
       "      <th>Location</th>\n",
       "      <th>TweetAt</th>\n",
       "      <th>OriginalTweet</th>\n",
       "      <th>Sentiment</th>\n",
       "      <th>TweetAt_dt</th>\n",
       "      <th>Sentiment_lbl</th>\n",
       "      <th>WiderLocation</th>\n",
       "      <th>WiderLocation_masked</th>\n",
       "    </tr>\n",
       "  </thead>\n",
       "  <tbody>\n",
       "    <tr>\n",
       "      <th>0</th>\n",
       "      <td>3800</td>\n",
       "      <td>48752</td>\n",
       "      <td>UK</td>\n",
       "      <td>16-03-2020</td>\n",
       "      <td>advice Talk to your neighbours family to excha...</td>\n",
       "      <td>1</td>\n",
       "      <td>2020-03-16</td>\n",
       "      <td>Positive</td>\n",
       "      <td>UK</td>\n",
       "      <td>UK</td>\n",
       "    </tr>\n",
       "    <tr>\n",
       "      <th>1</th>\n",
       "      <td>3801</td>\n",
       "      <td>48753</td>\n",
       "      <td>Vagabonds</td>\n",
       "      <td>16-03-2020</td>\n",
       "      <td>Coronavirus Australia: Woolworths to give elde...</td>\n",
       "      <td>1</td>\n",
       "      <td>2020-03-16</td>\n",
       "      <td>Positive</td>\n",
       "      <td>Vagabonds</td>\n",
       "      <td>OTHER</td>\n",
       "    </tr>\n",
       "    <tr>\n",
       "      <th>2</th>\n",
       "      <td>3802</td>\n",
       "      <td>48754</td>\n",
       "      <td>Unknown</td>\n",
       "      <td>16-03-2020</td>\n",
       "      <td>My food stock is not the only one which is emp...</td>\n",
       "      <td>1</td>\n",
       "      <td>2020-03-16</td>\n",
       "      <td>Positive</td>\n",
       "      <td>Unknown</td>\n",
       "      <td>Unknown</td>\n",
       "    </tr>\n",
       "    <tr>\n",
       "      <th>3</th>\n",
       "      <td>3803</td>\n",
       "      <td>48755</td>\n",
       "      <td>Unknown</td>\n",
       "      <td>16-03-2020</td>\n",
       "      <td>Me, ready to go at supermarket during the #COV...</td>\n",
       "      <td>0</td>\n",
       "      <td>2020-03-16</td>\n",
       "      <td>Negative</td>\n",
       "      <td>Unknown</td>\n",
       "      <td>Unknown</td>\n",
       "    </tr>\n",
       "    <tr>\n",
       "      <th>4</th>\n",
       "      <td>3804</td>\n",
       "      <td>48756</td>\n",
       "      <td>ÃÂT: 36.319708,-82.363649</td>\n",
       "      <td>16-03-2020</td>\n",
       "      <td>As news of the regionÃÂs first confirmed COV...</td>\n",
       "      <td>1</td>\n",
       "      <td>2020-03-16</td>\n",
       "      <td>Positive</td>\n",
       "      <td>-82.363649</td>\n",
       "      <td>OTHER</td>\n",
       "    </tr>\n",
       "  </tbody>\n",
       "</table>\n",
       "</div>"
      ]
     },
     "execution_count": 167,
     "metadata": {},
     "output_type": "execute_result"
    }
   ],
   "execution_count": 167
  },
  {
   "metadata": {
    "ExecuteTime": {
     "end_time": "2025-05-10T13:39:16.121035Z",
     "start_time": "2025-05-10T13:39:16.113117Z"
    }
   },
   "cell_type": "code",
   "source": "df['WiderLocation'].nunique()",
   "outputs": [
    {
     "data": {
      "text/plain": [
       "6118"
      ]
     },
     "execution_count": 163,
     "metadata": {},
     "output_type": "execute_result"
    }
   ],
   "execution_count": 163
  },
  {
   "metadata": {
    "ExecuteTime": {
     "end_time": "2025-05-10T13:39:20.763905Z",
     "start_time": "2025-05-10T13:39:20.649984Z"
    }
   },
   "cell_type": "code",
   "source": [
    "plt.figure(figsize=(12, 5))\n",
    "df['WiderLocation'].value_counts()[1:11].plot(kind='bar')\n",
    "plt.title('Top-10 locations')\n",
    "plt.ylabel('Count')\n",
    "plt.show()"
   ],
   "outputs": [
    {
     "data": {
      "text/plain": [
       "<Figure size 1200x500 with 1 Axes>"
      ],
      "image/png": "[encoded data removed]"
     },
     "metadata": {},
     "output_type": "display_data"
    }
   ],
   "execution_count": 164
  },
  {
   "cell_type": "markdown",
   "source": [
    "Закодируйте признак WiderLocation с помощью OHE таким образом, чтобы создались только столбцы для местоположений, которые встречаются более одного раза. Сколько таких значений?\n"
   ],
   "metadata": {
    "id": "cgyWrD2eVfff"
   }
  },
  {
   "cell_type": "code",
   "source": [
    "from sklearn.preprocessing import OneHotEncoder\n",
    "\n",
    "counts = df['WiderLocation'].value_counts()\n",
    "\n",
    "eligible = counts[counts > 1].index.tolist()\n",
    "\n",
    "train['WiderLocation_masked'] = train['WiderLocation'].where(\n",
    "    train['WiderLocation'].isin(eligible),\n",
    "    other='OTHER'\n",
    ")\n",
    "\n",
    "test['WiderLocation_masked'] = test['WiderLocation'].where(\n",
    "    test['WiderLocation'].isin(eligible),\n",
    "    other='OTHER'\n",
    ")\n",
    "\n",
    "ohe = OneHotEncoder(\n",
    "    categories=[eligible],\n",
    "    sparse_output=True,\n",
    "    handle_unknown='ignore',\n",
    "    dtype=int\n",
    ")\n",
    "\n",
    "ohe_loc_train = ohe.fit_transform(train['WiderLocation_masked'].values.reshape(-1, 1))\n",
    "ohe_loc_test = ohe.transform(test['WiderLocation_masked'].values.reshape(-1, 1))"
   ],
   "metadata": {
    "id": "SeJBfBWgPvg_",
    "ExecuteTime": {
     "end_time": "2025-05-10T13:56:56.855740Z",
     "start_time": "2025-05-10T13:56:56.818556Z"
    }
   },
   "outputs": [],
   "execution_count": 172
  },
  {
   "metadata": {
    "ExecuteTime": {
     "end_time": "2025-05-10T13:57:01.705720Z",
     "start_time": "2025-05-10T13:57:01.702579Z"
    }
   },
   "cell_type": "code",
   "source": "len(eligible)",
   "outputs": [
    {
     "data": {
      "text/plain": [
       "1308"
      ]
     },
     "execution_count": 173,
     "metadata": {},
     "output_type": "execute_result"
    }
   ],
   "execution_count": 173
  },
  {
   "cell_type": "markdown",
   "source": [
    "Добавьте этот признак к матрице отскалированных текстовых признаков, обучите логистическую регрессию, замерьте качество. Как оно изменилось? Оказался ли признак полезным?\n",
    "\n",
    "\n",
    "*Подсказка:* используйте параметр `categories` в энкодере."
   ],
   "metadata": {
    "id": "ZyMX5kZuimPK"
   }
  },
  {
   "cell_type": "code",
   "source": [
    "from scipy.sparse import hstack\n",
    "\n",
    "X_train_full = hstack([X_train_scaled, ohe_loc_train])\n",
    "X_test_full = hstack([X_test_scaled, ohe_loc_test])\n",
    "\n",
    "clf = LogisticRegression(random_state=42)\n",
    "clf.fit(X_train_full, y_train)\n",
    "\n",
    "y_pred = clf.predict(X_test_full)\n",
    "accuracy_score(y_test, y_pred)"
   ],
   "metadata": {
    "id": "EO1jNPeeim7A",
    "ExecuteTime": {
     "end_time": "2025-05-10T14:05:09.502526Z",
     "start_time": "2025-05-10T14:05:08.919067Z"
    }
   },
   "outputs": [
    {
     "name": "stderr",
     "output_type": "stream",
     "text": [
      "/home/andre/miniconda3/lib/python3.12/site-packages/sklearn/linear_model/_logistic.py:465: ConvergenceWarning: lbfgs failed to converge (status=1):\n",
      "STOP: TOTAL NO. OF ITERATIONS REACHED LIMIT.\n",
      "\n",
      "Increase the number of iterations (max_iter) or scale the data as shown in:\n",
      "    https://scikit-learn.org/stable/modules/preprocessing.html\n",
      "Please also refer to the documentation for alternative solver options:\n",
      "    https://scikit-learn.org/stable/modules/linear_model.html#logistic-regression\n",
      "  n_iter_i = _check_optimize_result(\n"
     ]
    },
    {
     "data": {
      "text/plain": [
       "0.8450269085110624"
      ]
     },
     "execution_count": 190,
     "metadata": {},
     "output_type": "execute_result"
    }
   ],
   "execution_count": 190
  },
  {
   "cell_type": "markdown",
   "source": "**Ответ:** Признак улучшил метрику не более чем на одну тысячную, можно сделать, вывод, что пользы от признака нет",
   "metadata": {
    "id": "7dHsGlDRYUQt"
   }
  }
 ],
 "metadata": {
  "colab": {
   "provenance": []
  },
  "kernelspec": {
   "display_name": "Python 3 (ipykernel)",
   "name": "python3",
   "language": "python"
  },
  "language_info": {
   "name": "python"
  }
 },
 "nbformat": 4,
 "nbformat_minor": 0
}
